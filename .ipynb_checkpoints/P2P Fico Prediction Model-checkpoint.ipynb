{
 "metadata": {
  "name": "",
  "signature": "sha256:170f8efb5a6d22e7ba6dc7eb84d7b50a157664f6d25fa604dec332c30e54b49e"
 },
 "nbformat": 3,
 "nbformat_minor": 0,
 "worksheets": [
  {
   "cells": [
    {
     "cell_type": "markdown",
     "metadata": {},
     "source": [
      "#find features derminant of someone's fico score. "
     ]
    },
    {
     "cell_type": "code",
     "collapsed": false,
     "input": [],
     "language": "python",
     "metadata": {},
     "outputs": []
    }
   ],
   "metadata": {}
  }
 ]
}